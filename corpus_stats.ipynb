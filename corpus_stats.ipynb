{
 "cells": [
  {
   "attachments": {},
   "cell_type": "markdown",
   "metadata": {},
   "source": [
    "# Analyze Corpus\n",
    "\n",
    "(C) 2023 by [Damir Cavar](http://damir.cavar.me/)\n",
    "\n",
    "This notebook provides an overview of the data in the corpus by language and type.\n",
    "\n",
    "This code is part of the [NLP-Lab](http://nlp-lab.org/) [Ellipsis Project](https://nlp-lab.org/ellipsis/).\n",
    "\n",
    "The prerequisites for this code to run are:\n",
    "\n",
    "- install the requirements using `pip install -r requirements.txt`"
   ]
  },
  {
   "cell_type": "code",
   "execution_count": 1,
   "metadata": {},
   "outputs": [
    {
     "name": "stderr",
     "output_type": "stream",
     "text": [
      "/home/damir/.local/lib/python3.12/site-packages/pandas/core/arrays/masked.py:60: UserWarning: Pandas requires version '1.3.6' or newer of 'bottleneck' (version '1.3.5' currently installed).\n",
      "  from pandas.core import (\n"
     ]
    }
   ],
   "source": [
    "import os\n",
    "import regex as re\n",
    "import pandas as pd\n",
    "from ipydatagrid import DataGrid\n",
    "import langcodes"
   ]
  },
  {
   "cell_type": "code",
   "execution_count": 2,
   "metadata": {},
   "outputs": [],
   "source": [
    "re_entry = re.compile(r\"\\n+(?P<ellipsis>.+)\\n^----\\n(?P<fullform>^.+)\\n(^#.+\\n)*\", re.MULTILINE) # |re.UNICODE"
   ]
  },
  {
   "cell_type": "code",
   "execution_count": 3,
   "metadata": {},
   "outputs": [],
   "source": [
    "def parse_txt_format(filename, debug=False):\n",
    "    if \"ellipsis\" in filename:\n",
    "        with open(filename, mode='r', encoding='utf-8') as ifp:\n",
    "            text = ifp.read()\n",
    "        if debug:\n",
    "            print(text)\n",
    "        counter = 0\n",
    "        for match in re_entry.finditer(text):\n",
    "            #s = match.start()\n",
    "            #e = match.end()\n",
    "            counter += 1\n",
    "        return counter\n",
    "    return 0"
   ]
  },
  {
   "cell_type": "code",
   "execution_count": 4,
   "metadata": {},
   "outputs": [
    {
     "ename": "FileNotFoundError",
     "evalue": "[Errno 2] No such file or directory: 'corpus'",
     "output_type": "error",
     "traceback": [
      "\u001b[0;31m---------------------------------------------------------------------------\u001b[0m",
      "\u001b[0;31mFileNotFoundError\u001b[0m                         Traceback (most recent call last)",
      "Cell \u001b[0;32mIn[4], line 3\u001b[0m\n\u001b[1;32m      1\u001b[0m directory \u001b[38;5;241m=\u001b[39m \u001b[38;5;124m\"\u001b[39m\u001b[38;5;124mcorpus\u001b[39m\u001b[38;5;124m\"\u001b[39m\n\u001b[0;32m----> 3\u001b[0m langdirs \u001b[38;5;241m=\u001b[39m [ x \u001b[38;5;28;01mfor\u001b[39;00m x \u001b[38;5;129;01min\u001b[39;00m \u001b[43mos\u001b[49m\u001b[38;5;241;43m.\u001b[39;49m\u001b[43mlistdir\u001b[49m\u001b[43m(\u001b[49m\u001b[43mdirectory\u001b[49m\u001b[43m)\u001b[49m \u001b[38;5;28;01mif\u001b[39;00m \u001b[38;5;28mlen\u001b[39m(x) \u001b[38;5;241m==\u001b[39m \u001b[38;5;241m3\u001b[39m ]\n\u001b[1;32m      4\u001b[0m res \u001b[38;5;241m=\u001b[39m []\n\u001b[1;32m      5\u001b[0m \u001b[38;5;28;01mfor\u001b[39;00m lfolder \u001b[38;5;129;01min\u001b[39;00m langdirs:\n",
      "\u001b[0;31mFileNotFoundError\u001b[0m: [Errno 2] No such file or directory: 'corpus'"
     ]
    }
   ],
   "source": [
    "directory = \"corpus\"\n",
    "\n",
    "langdirs = [ x for x in os.listdir(directory) if len(x) == 3 ]\n",
    "res = []\n",
    "for lfolder in langdirs:\n",
    "    lang = langcodes.Language.get(lfolder).display_name()\n",
    "    if lfolder == \"chn\":\n",
    "        print(lang)\n",
    "        lang = \"Mandarin Chinese\"\n",
    "    #if lang == \"Arabic\":\n",
    "    #    print(\"lang\", lang)\n",
    "    if lang.startswith(\"Unknown\"): lang = lfolder\n",
    "    for subdir, dirs, files in os.walk(os.path.join(directory, lfolder)):\n",
    "        for file in files:\n",
    "            if file.endswith(\".txt\"):\n",
    "                full_path = os.path.join(subdir, file)\n",
    "                DEBUG=False\n",
    "                #if lang==\"Arabic\": DEBUG=True\n",
    "                count = parse_txt_format(full_path, debug=DEBUG)\n",
    "                if count > 0:\n",
    "                    # print(lang, os.path.splitext(os.path.basename(full_path))[0], count)\n",
    "                    res.append( (lang, os.path.splitext(os.path.basename(full_path))[0], count) )\n",
    "            elif file.endswith(\".xml\"):\n",
    "                pass\n",
    "res.sort(key=lambda x: x[2], reverse=True)\n",
    "df = pd.DataFrame(res, columns=(\"lang\", \"type\", \"count\"), index=None)\n",
    "bylang = {}\n",
    "for r in res:\n",
    "    bylang[r[0]] = bylang.get(r[0], 0) + r[2]\n",
    "bylang = list(bylang.items())\n",
    "bylang.sort(key=lambda x: x[1], reverse=True)\n",
    "df_bylang = pd.DataFrame(bylang, columns=(\"lang\", \"count\"), index=None)"
   ]
  },
  {
   "cell_type": "code",
   "execution_count": null,
   "metadata": {},
   "outputs": [
    {
     "data": {
      "application/vnd.jupyter.widget-view+json": {
       "model_id": "f98b4002449f47afb5712718adf4aea1",
       "version_major": 2,
       "version_minor": 0
      },
      "text/plain": [
       "DataGrid(auto_fit_columns=True, auto_fit_params={'area': 'body', 'padding': 80, 'numCols': 2}, corner_renderer…"
      ]
     },
     "execution_count": 13,
     "metadata": {},
     "output_type": "execute_result"
    }
   ],
   "source": [
    "grid = DataGrid(df)\n",
    "grid.auto_fit_params = {\"area\": \"body\", \"padding\": 80, \"numCols\": 2}\n",
    "grid.auto_fit_columns = True\n",
    "grid"
   ]
  },
  {
   "cell_type": "code",
   "execution_count": null,
   "metadata": {},
   "outputs": [
    {
     "data": {
      "application/vnd.jupyter.widget-view+json": {
       "model_id": "3a46efc5f1534f029c9d8345b1ff562c",
       "version_major": 2,
       "version_minor": 0
      },
      "text/plain": [
       "DataGrid(auto_fit_params={'area': 'all', 'padding': 30, 'numCols': None}, corner_renderer=None, default_render…"
      ]
     },
     "execution_count": 14,
     "metadata": {},
     "output_type": "execute_result"
    }
   ],
   "source": [
    "DataGrid(df_bylang)"
   ]
  },
  {
   "cell_type": "code",
   "execution_count": null,
   "metadata": {},
   "outputs": [
    {
     "name": "stdout",
     "output_type": "stream",
     "text": [
      "                lang  count\n",
      "0            English    569\n",
      "1             Arabic    375\n",
      "2            Russian    161\n",
      "3            Spanish    144\n",
      "4           Japanese    113\n",
      "5              Hindi    112\n",
      "6             Polish     91\n",
      "7            Kumaoni     84\n",
      "8          Ukrainian     81\n",
      "9             German     79\n",
      "10            Korean     40\n",
      "11  Mandarin Chinese     40\n",
      "12          Gujarati      9\n",
      "13           Swedish      8\n",
      "14            Navajo      8\n",
      "15          Croatian      6\n"
     ]
    }
   ],
   "source": [
    "print(df_bylang)"
   ]
  },
  {
   "cell_type": "code",
   "execution_count": null,
   "metadata": {},
   "outputs": [
    {
     "data": {
      "text/plain": [
       "128"
      ]
     },
     "execution_count": 16,
     "metadata": {},
     "output_type": "execute_result"
    }
   ],
   "source": [
    "2**7\n"
   ]
  }
 ],
 "metadata": {
  "kernelspec": {
   "display_name": "Python 3 (ipykernel)",
   "language": "python",
   "name": "python3"
  },
  "language_info": {
   "codemirror_mode": {
    "name": "ipython",
    "version": 3
   },
   "file_extension": ".py",
   "mimetype": "text/x-python",
   "name": "python",
   "nbconvert_exporter": "python",
   "pygments_lexer": "ipython3",
   "version": "3.12.3"
  }
 },
 "nbformat": 4,
 "nbformat_minor": 4
}
